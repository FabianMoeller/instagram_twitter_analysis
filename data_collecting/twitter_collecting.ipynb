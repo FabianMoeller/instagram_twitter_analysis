{
 "metadata": {
  "language_info": {
   "codemirror_mode": {
    "name": "ipython",
    "version": 3
   },
   "file_extension": ".py",
   "mimetype": "text/x-python",
   "name": "python",
   "nbconvert_exporter": "python",
   "pygments_lexer": "ipython3",
   "version": "3.9.2"
  },
  "orig_nbformat": 4,
  "kernelspec": {
   "name": "python3",
   "display_name": "Python 3.9.2 64-bit ('local')"
  },
  "interpreter": {
   "hash": "aee8b7b246df8f9039afb4144a1f6fd8d2ca17a180786b69acc140d282b71a49"
  }
 },
 "nbformat": 4,
 "nbformat_minor": 2,
 "cells": [
  {
   "cell_type": "code",
   "execution_count": 1,
   "metadata": {},
   "outputs": [],
   "source": [
    "import tweepy\n",
    "import pandas as pd\n",
    "import time\n",
    "from sqlalchemy import create_engine\n",
    "from sqlalchemy import VARCHAR, FLOAT, DATE\n",
    "import numpy as np"
   ]
  },
  {
   "cell_type": "code",
   "execution_count": 2,
   "metadata": {},
   "outputs": [],
   "source": [
    "#twitter keys and connecting to tweepy and the twitter API\n",
    "twitter_keys={\n",
    "'consumer_key':'************',\n",
    "'consumer_secret':'**************',\n",
    "'access_token_key':'**************',\n",
    "'access_token_secret':'*******************************'\n",
    "}\n",
    "auth = tweepy.OAuthHandler(twitter_keys['consumer_key'], twitter_keys['consumer_secret'])\n",
    "auth.set_access_token(twitter_keys['access_token_key'],twitter_keys['access_token_secret'])\n",
    "api = tweepy.API(auth,wait_on_rate_limit=True,wait_on_rate_limit_notify=True,compression=True)"
   ]
  },
  {
   "cell_type": "code",
   "execution_count": 7,
   "metadata": {},
   "outputs": [],
   "source": [
    "#method to get tweets and afterward parse it into database\n",
    "def get_tweets(username,count):\n",
    "    tweets = api.user_timeline(screen_name =username,count=count,tweet_mode='extended',exclude_replies=True)\n",
    "    user = api.get_user(username)\n",
    "    ID = user.id_str\n",
    "    con = create_engine('mysql+pymysql://********@**********/examination_sma')\n",
    "    conn=con.connect()\n",
    "    for tweet in tweets:\n",
    "        text_tweet = tweet.full_text.replace('\"','\"\"').replace('%','%%').replace(\"'\",\"''\")\n",
    "        conn.execute('INSERT INTO twitter (tweet_id,user_id,username,tweet_content,favorites_count,retweets_count) VALUES (\"{0}\",\"{1}\",\"{2}\",\"{3}\",{4},{5})'.format(str(tweet.id_str),str(ID),str(username),str(text_tweet),tweet.favorite_count,tweet.retweet_count))\n",
    "    conn.close()\n",
    "    con.dispose()"
   ]
  },
  {
   "cell_type": "code",
   "execution_count": 9,
   "metadata": {},
   "outputs": [],
   "source": [
    "get_tweets(\"JoeBiden\",1000)"
   ]
  },
  {
   "cell_type": "code",
   "execution_count": 10,
   "metadata": {},
   "outputs": [],
   "source": [
    "get_tweets(\"DavidDobrik\",1000)"
   ]
  },
  {
   "cell_type": "code",
   "execution_count": 11,
   "metadata": {},
   "outputs": [],
   "source": [
    "get_tweets(\"GretaThunberg\",1000)"
   ]
  },
  {
   "cell_type": "code",
   "execution_count": 79,
   "metadata": {},
   "outputs": [],
   "source": [
    "#get comments of the tweets for specific user\n",
    "def get_comments(username,user_id):\n",
    "    replies=[]\n",
    "    for tweet in tweepy.Cursor(api.search,q='to:'+username,result_type='recent',tweet_mode='extended',timeout=999999).items(1000):\n",
    "        if hasattr(tweet,'in_reply_to_status_id_str'):\n",
    "            replies.append(tweet.full_text)\n",
    "    con = create_engine('mysql+pymysql://***********@***********+/examination_sma')\n",
    "    conn=con.connect()\n",
    "    for tweet in replies:\n",
    "        text_tweet = tweet.replace('\"','\"\"').replace('%','%%').replace(\"'\",\"''\")\n",
    "        text_tweet = text_tweet.split(\"@\"+username)[1:]\n",
    "        text_tweet = ''.join(text_tweet)\n",
    "        conn.execute('INSERT INTO twitter_comments (user_id,username,comment) VALUES (\"{0}\",\"{1}\",\"{2}\")'.format(str(user_id),str(username),str(text_tweet)))\n",
    "    conn.close()\n",
    "    con.dispose()"
   ]
  },
  {
   "cell_type": "code",
   "execution_count": 80,
   "metadata": {},
   "outputs": [
    {
     "output_type": "stream",
     "name": "stderr",
     "text": [
      "Rate limit reached. Sleeping for: 720\n"
     ]
    }
   ],
   "source": [
    "#here you can see, that i struggled with rate limits\n",
    "df_user = pd.read_sql_query(\"SELECT DISTINCT username,user_id FROM twitter\",con = create_engine('mysql+pymysql://********@********/examination_sma'))\n",
    "for i in range(len(df_tweets)):\n",
    "    get_comments(df_user.at[i,'username'],df_user.at[i,'user_id'])"
   ]
  },
  {
   "cell_type": "code",
   "execution_count": null,
   "metadata": {},
   "outputs": [],
   "source": []
  }
 ]
}