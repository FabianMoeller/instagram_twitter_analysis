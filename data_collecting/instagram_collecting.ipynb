{
 "cells": [
  {
   "cell_type": "code",
   "execution_count": 1,
   "metadata": {},
   "outputs": [
    {
     "ename": "ModuleNotFoundError",
     "evalue": "No module named 'sqlalchemy'",
     "output_type": "error",
     "traceback": [
      "\u001b[0;31m---------------------------------------------------------------------------\u001b[0m",
      "\u001b[0;31mModuleNotFoundError\u001b[0m                       Traceback (most recent call last)",
      "\u001b[0;32m/var/folders/wp/tbmtcq792331xbg4njn_w1_40000gn/T/ipykernel_2874/2913631986.py\u001b[0m in \u001b[0;36m<module>\u001b[0;34m\u001b[0m\n\u001b[1;32m      3\u001b[0m \u001b[0;32mimport\u001b[0m \u001b[0mtime\u001b[0m\u001b[0;34m\u001b[0m\u001b[0;34m\u001b[0m\u001b[0m\n\u001b[1;32m      4\u001b[0m \u001b[0;32mimport\u001b[0m \u001b[0mrandom\u001b[0m\u001b[0;34m\u001b[0m\u001b[0;34m\u001b[0m\u001b[0m\n\u001b[0;32m----> 5\u001b[0;31m \u001b[0;32mfrom\u001b[0m \u001b[0msqlalchemy\u001b[0m \u001b[0;32mimport\u001b[0m \u001b[0mcreate_engine\u001b[0m\u001b[0;34m\u001b[0m\u001b[0;34m\u001b[0m\u001b[0m\n\u001b[0m",
      "\u001b[0;31mModuleNotFoundError\u001b[0m: No module named 'sqlalchemy'"
     ]
    }
   ],
   "source": [
    "from igramscraper.instagram import Instagram\n",
    "import pandas as pd\n",
    "import time\n",
    "import random\n",
    "from sqlalchemy import create_engine"
   ]
  },
  {
   "cell_type": "code",
   "execution_count": 4,
   "metadata": {},
   "outputs": [],
   "source": [
    "#connect to the instagram scraper\n",
    "instagram = Instagram()"
   ]
  },
  {
   "cell_type": "code",
   "execution_count": 6,
   "metadata": {},
   "outputs": [],
   "source": [
    "# i didn't use all of the function at the end, because it didn't work out with the limits/ difficulties with instagram, but in theory all of this methods should work smoothly\n",
    "\n",
    "#getting the number of posts on instagram and get the account id\n",
    "def get_post_count(username):\n",
    "    account = instagram.get_account(username)\n",
    "    posts_count = account.media_count\n",
    "    return posts_count,account.identifier\n",
    "\n",
    "#out of the username, get all the medias and form them to a df (i called the method df_format() in this method)\n",
    "def create_df(username):\n",
    "    print(\"start\")\n",
    "    time.sleep(random.randint(30,60))\n",
    "    number_posts,account_id = get_post_count(username)\n",
    "    print(\"Number of posts\")\n",
    "    time.sleep(random.randint(30,60))\n",
    "    medias = instagram.get_medias(username, number_posts)\n",
    "    df = df_format(medias,username)\n",
    "    return df\n",
    "\n",
    "#forms a dataframe out of the data\n",
    "def df_format(medias,username,account_id):\n",
    "    list_ids = []\n",
    "    no_likes = []\n",
    "    links=[]\n",
    "    caption =[]\n",
    "    for i in range(len(medias)):\n",
    "        list_ids.append(medias[i].identifier)\n",
    "        no_likes.append(medias[i].likes_count)\n",
    "        links.append(medias[i].link)\n",
    "        caption.append(medias[i].caption)\n",
    "    df = pd.DataFrame(list(zip(list_ids,caption,no_likes,links)),columns=['post_id','caption','likes','link'])\n",
    "    df['username'] = username\n",
    "    df['account_id'] = account_id\n",
    "    return df\n",
    "\n",
    "# parsing a df into the database\n",
    "def to_sqlbase(df):\n",
    "    con = create_engine('mysql+pymysql://************@*************/examination_sma')\n",
    "    conn = con.connect()\n",
    "    for i in range(len(df)):\n",
    "        if df.at[i,'caption'] != None:\n",
    "            caption_text = df.at[i,'caption'].replace('\"','\"\"').replace('%','%%').replace(\"'\",\"''\")\n",
    "        conn.execute(\"INSERT INTO instagram (post_id,caption,likes,link,username,account_id) VALUES ('{0}','{1}',{2},'{3}','{4}','{5}')\".format(str(df.at[i,'post_id']),str(caption_text),df.at[i,'likes'],str(df.at[i,'link']),str(df.at[i,'username']),str(df.at[i,'account_id'])))"
   ]
  },
  {
   "cell_type": "code",
   "execution_count": 201,
   "metadata": {},
   "outputs": [],
   "source": [
    "# get number of post and account id of daviddobrik\n",
    "number_posts,account_id = get_post_count(\"daviddobrik\")"
   ]
  },
  {
   "cell_type": "code",
   "execution_count": 202,
   "metadata": {},
   "outputs": [],
   "source": [
    "#get medias of daviddobrik\n",
    "medias = instagram.get_medias(\"daviddobrik\", 466)"
   ]
  },
  {
   "cell_type": "code",
   "execution_count": 218,
   "metadata": {},
   "outputs": [],
   "source": [
    "#form medias of daviddobrik to df \n",
    "df_david = df_format(medias,'daviddobrik','608037384')"
   ]
  },
  {
   "cell_type": "code",
   "execution_count": 269,
   "metadata": {},
   "outputs": [],
   "source": [
    "#parse david_df into table in database\n",
    "to_sqlbase(df_david)"
   ]
  },
  {
   "cell_type": "code",
   "execution_count": 233,
   "metadata": {},
   "outputs": [],
   "source": [
    "#get number of post and account id of joebiden\n",
    "number_posts,account_id = get_post_count(\"joebiden\")"
   ]
  },
  {
   "cell_type": "code",
   "execution_count": 234,
   "metadata": {},
   "outputs": [
    {
     "data": {
      "text/plain": [
       "1316"
      ]
     },
     "execution_count": 234,
     "metadata": {},
     "output_type": "execute_result"
    }
   ],
   "source": [
    "#shrink to a maximum of 466, because at a count over 500 the scraper just stops and didnt send anything back\n",
    "number_posts"
   ]
  },
  {
   "cell_type": "code",
   "execution_count": 253,
   "metadata": {},
   "outputs": [],
   "source": [
    "#get medias of joebiden\n",
    "medias = Instagram().get_medias(\"joebiden\",466)"
   ]
  },
  {
   "cell_type": "code",
   "execution_count": 254,
   "metadata": {},
   "outputs": [],
   "source": [
    "#form medias of joebiden to df \n",
    "df_biden = df_format(medias,'joebiden','5511100943')"
   ]
  },
  {
   "cell_type": "code",
   "execution_count": 270,
   "metadata": {},
   "outputs": [],
   "source": [
    "#parse df_biden into table in database\n",
    "to_sqlbase(df_biden)"
   ]
  },
  {
   "cell_type": "code",
   "execution_count": 7,
   "metadata": {},
   "outputs": [],
   "source": [
    "#get number of post and account id of gretathunberg\n",
    "number_posts,account_id = get_post_count(\"gretathunberg\")"
   ]
  },
  {
   "cell_type": "code",
   "execution_count": 8,
   "metadata": {},
   "outputs": [
    {
     "data": {
      "text/plain": [
       "729"
      ]
     },
     "execution_count": 8,
     "metadata": {},
     "output_type": "execute_result"
    }
   ],
   "source": [
    "number_posts"
   ]
  },
  {
   "cell_type": "code",
   "execution_count": 261,
   "metadata": {},
   "outputs": [],
   "source": [
    "#get medias of gretathunberg\n",
    "medias = instagram.get_medias(\"gretathunberg\",466)"
   ]
  },
  {
   "cell_type": "code",
   "execution_count": 263,
   "metadata": {},
   "outputs": [],
   "source": [
    "#form medias of gretathunbergto df \n",
    "df_thunberg = df_format(medias,'gretathunberg','4044526946')"
   ]
  },
  {
   "cell_type": "code",
   "execution_count": 271,
   "metadata": {},
   "outputs": [],
   "source": [
    "#parse df_thunberg into table in database\n",
    "to_sqlbase(df_thunberg)"
   ]
  }
 ],
 "metadata": {
  "interpreter": {
   "hash": "31f2aee4e71d21fbe5cf8b01ff0e069b9275f58929596ceb00d14d90e3e16cd6"
  },
  "kernelspec": {
   "display_name": "Python 3.8.10 64-bit",
   "name": "python3"
  },
  "language_info": {
   "codemirror_mode": {
    "name": "ipython",
    "version": 3
   },
   "file_extension": ".py",
   "mimetype": "text/x-python",
   "name": "python",
   "nbconvert_exporter": "python",
   "pygments_lexer": "ipython3",
   "version": "3.8.9"
  },
  "orig_nbformat": 4
 },
 "nbformat": 4,
 "nbformat_minor": 2
}
